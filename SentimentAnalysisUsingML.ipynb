{
  "nbformat": 4,
  "nbformat_minor": 0,
  "metadata": {
    "colab": {
      "provenance": []
    },
    "kernelspec": {
      "name": "python3",
      "display_name": "Python 3"
    },
    "language_info": {
      "name": "python"
    }
  },
  "cells": [
    {
      "cell_type": "code",
      "execution_count": 1,
      "metadata": {
        "colab": {
          "base_uri": "https://localhost:8080/"
        },
        "id": "zZv7cdr1zLqW",
        "outputId": "66ed6a57-d949-422d-f67e-30057604b770"
      },
      "outputs": [
        {
          "output_type": "stream",
          "name": "stdout",
          "text": [
            "Requirement already satisfied: nltk in /usr/local/lib/python3.10/dist-packages (3.8.1)\n",
            "Requirement already satisfied: click in /usr/local/lib/python3.10/dist-packages (from nltk) (8.1.7)\n",
            "Requirement already satisfied: joblib in /usr/local/lib/python3.10/dist-packages (from nltk) (1.4.0)\n",
            "Requirement already satisfied: regex>=2021.8.3 in /usr/local/lib/python3.10/dist-packages (from nltk) (2023.12.25)\n",
            "Requirement already satisfied: tqdm in /usr/local/lib/python3.10/dist-packages (from nltk) (4.66.2)\n"
          ]
        },
        {
          "output_type": "stream",
          "name": "stderr",
          "text": [
            "[nltk_data] Downloading package punkt to /root/nltk_data...\n",
            "[nltk_data]   Unzipping tokenizers/punkt.zip.\n"
          ]
        },
        {
          "output_type": "execute_result",
          "data": {
            "text/plain": [
              "True"
            ]
          },
          "metadata": {},
          "execution_count": 1
        }
      ],
      "source": [
        "import os\n",
        "import re\n",
        "import random\n",
        "import string\n",
        "import pandas as pd\n",
        "import numpy as np\n",
        "import matplotlib.pyplot as plt\n",
        "from sklearn.model_selection import train_test_split\n",
        "from sklearn.linear_model import LogisticRegression\n",
        "import plotly.express as px\n",
        "\n",
        "#Setup NLTK\n",
        "!pip install --user -U nltk\n",
        "import nltk\n",
        "nltk.download('punkt')"
      ]
    },
    {
      "cell_type": "code",
      "source": [
        "#downloading the twitter data\n",
        "!gdown 11LWo5nagSmC72hOJM9lm2l05sdQxt4rf"
      ],
      "metadata": {
        "colab": {
          "base_uri": "https://localhost:8080/"
        },
        "id": "lCFLGw8i2HqL",
        "outputId": "cecfbf76-0a5e-47ea-f4d9-c8b5e1befba5"
      },
      "execution_count": 2,
      "outputs": [
        {
          "output_type": "stream",
          "name": "stdout",
          "text": [
            "Downloading...\n",
            "From: https://drive.google.com/uc?id=11LWo5nagSmC72hOJM9lm2l05sdQxt4rf\n",
            "To: /content/corona_tweets.csv\n",
            "\r  0% 0.00/1.00M [00:00<?, ?B/s]\r100% 1.00M/1.00M [00:00<00:00, 80.1MB/s]\n"
          ]
        }
      ]
    },
    {
      "cell_type": "code",
      "source": [
        "#reading the downloaded csv file into a dataframe\n",
        "df = pd.read_csv(\"./corona_tweets.csv\")\n",
        "df.head()"
      ],
      "metadata": {
        "colab": {
          "base_uri": "https://localhost:8080/",
          "height": 206
        },
        "id": "LSEE8_Wi2N-s",
        "outputId": "823aa877-23f1-4a53-975e-48aead74bde9"
      },
      "execution_count": 3,
      "outputs": [
        {
          "output_type": "execute_result",
          "data": {
            "text/plain": [
              "   UserName  ScreenName             Location     TweetAt  \\\n",
              "0         1       44953                  NYC  02-03-2020   \n",
              "1         2       44954          Seattle, WA  02-03-2020   \n",
              "2         3       44955                  NaN  02-03-2020   \n",
              "3         4       44956          Chicagoland  02-03-2020   \n",
              "4         5       44957  Melbourne, Victoria  03-03-2020   \n",
              "\n",
              "                                       OriginalTweet           Sentiment  \n",
              "0  TRENDING: New Yorkers encounter empty supermar...  Extremely Negative  \n",
              "1  When I couldn't find hand sanitizer at Fred Me...            Positive  \n",
              "2  Find out how you can protect yourself and love...  Extremely Positive  \n",
              "3  #Panic buying hits #NewYork City as anxious sh...            Negative  \n",
              "4  #toiletpaper #dunnypaper #coronavirus #coronav...             Neutral  "
            ],
            "text/html": [
              "\n",
              "  <div id=\"df-a43f1d3b-33ed-4a3c-8c2e-e9ca12d692f4\" class=\"colab-df-container\">\n",
              "    <div>\n",
              "<style scoped>\n",
              "    .dataframe tbody tr th:only-of-type {\n",
              "        vertical-align: middle;\n",
              "    }\n",
              "\n",
              "    .dataframe tbody tr th {\n",
              "        vertical-align: top;\n",
              "    }\n",
              "\n",
              "    .dataframe thead th {\n",
              "        text-align: right;\n",
              "    }\n",
              "</style>\n",
              "<table border=\"1\" class=\"dataframe\">\n",
              "  <thead>\n",
              "    <tr style=\"text-align: right;\">\n",
              "      <th></th>\n",
              "      <th>UserName</th>\n",
              "      <th>ScreenName</th>\n",
              "      <th>Location</th>\n",
              "      <th>TweetAt</th>\n",
              "      <th>OriginalTweet</th>\n",
              "      <th>Sentiment</th>\n",
              "    </tr>\n",
              "  </thead>\n",
              "  <tbody>\n",
              "    <tr>\n",
              "      <th>0</th>\n",
              "      <td>1</td>\n",
              "      <td>44953</td>\n",
              "      <td>NYC</td>\n",
              "      <td>02-03-2020</td>\n",
              "      <td>TRENDING: New Yorkers encounter empty supermar...</td>\n",
              "      <td>Extremely Negative</td>\n",
              "    </tr>\n",
              "    <tr>\n",
              "      <th>1</th>\n",
              "      <td>2</td>\n",
              "      <td>44954</td>\n",
              "      <td>Seattle, WA</td>\n",
              "      <td>02-03-2020</td>\n",
              "      <td>When I couldn't find hand sanitizer at Fred Me...</td>\n",
              "      <td>Positive</td>\n",
              "    </tr>\n",
              "    <tr>\n",
              "      <th>2</th>\n",
              "      <td>3</td>\n",
              "      <td>44955</td>\n",
              "      <td>NaN</td>\n",
              "      <td>02-03-2020</td>\n",
              "      <td>Find out how you can protect yourself and love...</td>\n",
              "      <td>Extremely Positive</td>\n",
              "    </tr>\n",
              "    <tr>\n",
              "      <th>3</th>\n",
              "      <td>4</td>\n",
              "      <td>44956</td>\n",
              "      <td>Chicagoland</td>\n",
              "      <td>02-03-2020</td>\n",
              "      <td>#Panic buying hits #NewYork City as anxious sh...</td>\n",
              "      <td>Negative</td>\n",
              "    </tr>\n",
              "    <tr>\n",
              "      <th>4</th>\n",
              "      <td>5</td>\n",
              "      <td>44957</td>\n",
              "      <td>Melbourne, Victoria</td>\n",
              "      <td>03-03-2020</td>\n",
              "      <td>#toiletpaper #dunnypaper #coronavirus #coronav...</td>\n",
              "      <td>Neutral</td>\n",
              "    </tr>\n",
              "  </tbody>\n",
              "</table>\n",
              "</div>\n",
              "    <div class=\"colab-df-buttons\">\n",
              "\n",
              "  <div class=\"colab-df-container\">\n",
              "    <button class=\"colab-df-convert\" onclick=\"convertToInteractive('df-a43f1d3b-33ed-4a3c-8c2e-e9ca12d692f4')\"\n",
              "            title=\"Convert this dataframe to an interactive table.\"\n",
              "            style=\"display:none;\">\n",
              "\n",
              "  <svg xmlns=\"http://www.w3.org/2000/svg\" height=\"24px\" viewBox=\"0 -960 960 960\">\n",
              "    <path d=\"M120-120v-720h720v720H120Zm60-500h600v-160H180v160Zm220 220h160v-160H400v160Zm0 220h160v-160H400v160ZM180-400h160v-160H180v160Zm440 0h160v-160H620v160ZM180-180h160v-160H180v160Zm440 0h160v-160H620v160Z\"/>\n",
              "  </svg>\n",
              "    </button>\n",
              "\n",
              "  <style>\n",
              "    .colab-df-container {\n",
              "      display:flex;\n",
              "      gap: 12px;\n",
              "    }\n",
              "\n",
              "    .colab-df-convert {\n",
              "      background-color: #E8F0FE;\n",
              "      border: none;\n",
              "      border-radius: 50%;\n",
              "      cursor: pointer;\n",
              "      display: none;\n",
              "      fill: #1967D2;\n",
              "      height: 32px;\n",
              "      padding: 0 0 0 0;\n",
              "      width: 32px;\n",
              "    }\n",
              "\n",
              "    .colab-df-convert:hover {\n",
              "      background-color: #E2EBFA;\n",
              "      box-shadow: 0px 1px 2px rgba(60, 64, 67, 0.3), 0px 1px 3px 1px rgba(60, 64, 67, 0.15);\n",
              "      fill: #174EA6;\n",
              "    }\n",
              "\n",
              "    .colab-df-buttons div {\n",
              "      margin-bottom: 4px;\n",
              "    }\n",
              "\n",
              "    [theme=dark] .colab-df-convert {\n",
              "      background-color: #3B4455;\n",
              "      fill: #D2E3FC;\n",
              "    }\n",
              "\n",
              "    [theme=dark] .colab-df-convert:hover {\n",
              "      background-color: #434B5C;\n",
              "      box-shadow: 0px 1px 3px 1px rgba(0, 0, 0, 0.15);\n",
              "      filter: drop-shadow(0px 1px 2px rgba(0, 0, 0, 0.3));\n",
              "      fill: #FFFFFF;\n",
              "    }\n",
              "  </style>\n",
              "\n",
              "    <script>\n",
              "      const buttonEl =\n",
              "        document.querySelector('#df-a43f1d3b-33ed-4a3c-8c2e-e9ca12d692f4 button.colab-df-convert');\n",
              "      buttonEl.style.display =\n",
              "        google.colab.kernel.accessAllowed ? 'block' : 'none';\n",
              "\n",
              "      async function convertToInteractive(key) {\n",
              "        const element = document.querySelector('#df-a43f1d3b-33ed-4a3c-8c2e-e9ca12d692f4');\n",
              "        const dataTable =\n",
              "          await google.colab.kernel.invokeFunction('convertToInteractive',\n",
              "                                                    [key], {});\n",
              "        if (!dataTable) return;\n",
              "\n",
              "        const docLinkHtml = 'Like what you see? Visit the ' +\n",
              "          '<a target=\"_blank\" href=https://colab.research.google.com/notebooks/data_table.ipynb>data table notebook</a>'\n",
              "          + ' to learn more about interactive tables.';\n",
              "        element.innerHTML = '';\n",
              "        dataTable['output_type'] = 'display_data';\n",
              "        await google.colab.output.renderOutput(dataTable, element);\n",
              "        const docLink = document.createElement('div');\n",
              "        docLink.innerHTML = docLinkHtml;\n",
              "        element.appendChild(docLink);\n",
              "      }\n",
              "    </script>\n",
              "  </div>\n",
              "\n",
              "\n",
              "<div id=\"df-6ffd50ea-367b-4a6f-9839-8e8adcf61143\">\n",
              "  <button class=\"colab-df-quickchart\" onclick=\"quickchart('df-6ffd50ea-367b-4a6f-9839-8e8adcf61143')\"\n",
              "            title=\"Suggest charts\"\n",
              "            style=\"display:none;\">\n",
              "\n",
              "<svg xmlns=\"http://www.w3.org/2000/svg\" height=\"24px\"viewBox=\"0 0 24 24\"\n",
              "     width=\"24px\">\n",
              "    <g>\n",
              "        <path d=\"M19 3H5c-1.1 0-2 .9-2 2v14c0 1.1.9 2 2 2h14c1.1 0 2-.9 2-2V5c0-1.1-.9-2-2-2zM9 17H7v-7h2v7zm4 0h-2V7h2v10zm4 0h-2v-4h2v4z\"/>\n",
              "    </g>\n",
              "</svg>\n",
              "  </button>\n",
              "\n",
              "<style>\n",
              "  .colab-df-quickchart {\n",
              "      --bg-color: #E8F0FE;\n",
              "      --fill-color: #1967D2;\n",
              "      --hover-bg-color: #E2EBFA;\n",
              "      --hover-fill-color: #174EA6;\n",
              "      --disabled-fill-color: #AAA;\n",
              "      --disabled-bg-color: #DDD;\n",
              "  }\n",
              "\n",
              "  [theme=dark] .colab-df-quickchart {\n",
              "      --bg-color: #3B4455;\n",
              "      --fill-color: #D2E3FC;\n",
              "      --hover-bg-color: #434B5C;\n",
              "      --hover-fill-color: #FFFFFF;\n",
              "      --disabled-bg-color: #3B4455;\n",
              "      --disabled-fill-color: #666;\n",
              "  }\n",
              "\n",
              "  .colab-df-quickchart {\n",
              "    background-color: var(--bg-color);\n",
              "    border: none;\n",
              "    border-radius: 50%;\n",
              "    cursor: pointer;\n",
              "    display: none;\n",
              "    fill: var(--fill-color);\n",
              "    height: 32px;\n",
              "    padding: 0;\n",
              "    width: 32px;\n",
              "  }\n",
              "\n",
              "  .colab-df-quickchart:hover {\n",
              "    background-color: var(--hover-bg-color);\n",
              "    box-shadow: 0 1px 2px rgba(60, 64, 67, 0.3), 0 1px 3px 1px rgba(60, 64, 67, 0.15);\n",
              "    fill: var(--button-hover-fill-color);\n",
              "  }\n",
              "\n",
              "  .colab-df-quickchart-complete:disabled,\n",
              "  .colab-df-quickchart-complete:disabled:hover {\n",
              "    background-color: var(--disabled-bg-color);\n",
              "    fill: var(--disabled-fill-color);\n",
              "    box-shadow: none;\n",
              "  }\n",
              "\n",
              "  .colab-df-spinner {\n",
              "    border: 2px solid var(--fill-color);\n",
              "    border-color: transparent;\n",
              "    border-bottom-color: var(--fill-color);\n",
              "    animation:\n",
              "      spin 1s steps(1) infinite;\n",
              "  }\n",
              "\n",
              "  @keyframes spin {\n",
              "    0% {\n",
              "      border-color: transparent;\n",
              "      border-bottom-color: var(--fill-color);\n",
              "      border-left-color: var(--fill-color);\n",
              "    }\n",
              "    20% {\n",
              "      border-color: transparent;\n",
              "      border-left-color: var(--fill-color);\n",
              "      border-top-color: var(--fill-color);\n",
              "    }\n",
              "    30% {\n",
              "      border-color: transparent;\n",
              "      border-left-color: var(--fill-color);\n",
              "      border-top-color: var(--fill-color);\n",
              "      border-right-color: var(--fill-color);\n",
              "    }\n",
              "    40% {\n",
              "      border-color: transparent;\n",
              "      border-right-color: var(--fill-color);\n",
              "      border-top-color: var(--fill-color);\n",
              "    }\n",
              "    60% {\n",
              "      border-color: transparent;\n",
              "      border-right-color: var(--fill-color);\n",
              "    }\n",
              "    80% {\n",
              "      border-color: transparent;\n",
              "      border-right-color: var(--fill-color);\n",
              "      border-bottom-color: var(--fill-color);\n",
              "    }\n",
              "    90% {\n",
              "      border-color: transparent;\n",
              "      border-bottom-color: var(--fill-color);\n",
              "    }\n",
              "  }\n",
              "</style>\n",
              "\n",
              "  <script>\n",
              "    async function quickchart(key) {\n",
              "      const quickchartButtonEl =\n",
              "        document.querySelector('#' + key + ' button');\n",
              "      quickchartButtonEl.disabled = true;  // To prevent multiple clicks.\n",
              "      quickchartButtonEl.classList.add('colab-df-spinner');\n",
              "      try {\n",
              "        const charts = await google.colab.kernel.invokeFunction(\n",
              "            'suggestCharts', [key], {});\n",
              "      } catch (error) {\n",
              "        console.error('Error during call to suggestCharts:', error);\n",
              "      }\n",
              "      quickchartButtonEl.classList.remove('colab-df-spinner');\n",
              "      quickchartButtonEl.classList.add('colab-df-quickchart-complete');\n",
              "    }\n",
              "    (() => {\n",
              "      let quickchartButtonEl =\n",
              "        document.querySelector('#df-6ffd50ea-367b-4a6f-9839-8e8adcf61143 button');\n",
              "      quickchartButtonEl.style.display =\n",
              "        google.colab.kernel.accessAllowed ? 'block' : 'none';\n",
              "    })();\n",
              "  </script>\n",
              "</div>\n",
              "\n",
              "    </div>\n",
              "  </div>\n"
            ],
            "application/vnd.google.colaboratory.intrinsic+json": {
              "type": "dataframe",
              "variable_name": "df",
              "summary": "{\n  \"name\": \"df\",\n  \"rows\": 3798,\n  \"fields\": [\n    {\n      \"column\": \"UserName\",\n      \"properties\": {\n        \"dtype\": \"number\",\n        \"std\": 1096,\n        \"min\": 1,\n        \"max\": 3798,\n        \"num_unique_values\": 3798,\n        \"samples\": [\n          1071,\n          355,\n          882\n        ],\n        \"semantic_type\": \"\",\n        \"description\": \"\"\n      }\n    },\n    {\n      \"column\": \"ScreenName\",\n      \"properties\": {\n        \"dtype\": \"number\",\n        \"std\": 1096,\n        \"min\": 44953,\n        \"max\": 48750,\n        \"num_unique_values\": 3798,\n        \"samples\": [\n          46023,\n          45307,\n          45834\n        ],\n        \"semantic_type\": \"\",\n        \"description\": \"\"\n      }\n    },\n    {\n      \"column\": \"Location\",\n      \"properties\": {\n        \"dtype\": \"category\",\n        \"num_unique_values\": 1717,\n        \"samples\": [\n          \"Ottawa, Canada\",\n          \"Lebanon\",\n          \"HousePriceMania\"\n        ],\n        \"semantic_type\": \"\",\n        \"description\": \"\"\n      }\n    },\n    {\n      \"column\": \"TweetAt\",\n      \"properties\": {\n        \"dtype\": \"category\",\n        \"num_unique_values\": 15,\n        \"samples\": [\n          \"11-03-2020\",\n          \"13-03-2020\",\n          \"02-03-2020\"\n        ],\n        \"semantic_type\": \"\",\n        \"description\": \"\"\n      }\n    },\n    {\n      \"column\": \"OriginalTweet\",\n      \"properties\": {\n        \"dtype\": \"string\",\n        \"num_unique_values\": 3798,\n        \"samples\": [\n          \"At my local grocery store in New Hampshire... #coronavirus #Covid_19 #NationalEmergency https://t.co/AXuMBSfNU9\",\n          \"Seeing resellers sell masks, alcohols and other necessities in prices which are 5-15x more expensive compared to SRPs makes me wonder how can people be so heartless, insensitive, and opportunistic in these times of crisis. #COVID2019\",\n          \"Where did coronavirus come from, and where will it take us? An interview with Rob Wallace, author of Big Farms Make Big Flu\\r\\r\\n\\r\\r\\nhttps://t.co/Hqp68iu1iN https://t.co/dR4Ys2hCOy\"\n        ],\n        \"semantic_type\": \"\",\n        \"description\": \"\"\n      }\n    },\n    {\n      \"column\": \"Sentiment\",\n      \"properties\": {\n        \"dtype\": \"category\",\n        \"num_unique_values\": 5,\n        \"samples\": [\n          \"Positive\",\n          \"Neutral\",\n          \"Extremely Positive\"\n        ],\n        \"semantic_type\": \"\",\n        \"description\": \"\"\n      }\n    }\n  ]\n}"
            }
          },
          "metadata": {},
          "execution_count": 3
        }
      ]
    },
    {
      "cell_type": "code",
      "source": [
        "#checking all the Sentiments we have. Going further in our problem statement, we will only consider Positive and Negative sentiments for ease\n",
        "df.Sentiment.unique()"
      ],
      "metadata": {
        "colab": {
          "base_uri": "https://localhost:8080/"
        },
        "id": "8l2ocdVW2lQT",
        "outputId": "b1bbe53e-0f11-49a6-c043-f9f10310dfd7"
      },
      "execution_count": 4,
      "outputs": [
        {
          "output_type": "execute_result",
          "data": {
            "text/plain": [
              "array(['Extremely Negative', 'Positive', 'Extremely Positive', 'Negative',\n",
              "       'Neutral'], dtype=object)"
            ]
          },
          "metadata": {},
          "execution_count": 4
        }
      ]
    },
    {
      "cell_type": "code",
      "source": [
        "df.dtypes"
      ],
      "metadata": {
        "colab": {
          "base_uri": "https://localhost:8080/"
        },
        "id": "fxkQRw2w2lTW",
        "outputId": "07989068-4f27-455b-b963-e746b6cc4835"
      },
      "execution_count": 5,
      "outputs": [
        {
          "output_type": "execute_result",
          "data": {
            "text/plain": [
              "UserName          int64\n",
              "ScreenName        int64\n",
              "Location         object\n",
              "TweetAt          object\n",
              "OriginalTweet    object\n",
              "Sentiment        object\n",
              "dtype: object"
            ]
          },
          "metadata": {},
          "execution_count": 5
        }
      ]
    },
    {
      "cell_type": "code",
      "source": [
        "#function to plot the sentiments by count of tweets\n",
        "def pie_chart(df):\n",
        "  #converting object type to string type for each label\n",
        "  label_types = df.Sentiment.unique().astype(str)\n",
        "  #count of tweets for each type of sentiment\n",
        "  label_counts = df.Sentiment.value_counts()\n",
        "  print('Sentiments in the dataset: ', label_types)\n",
        "  print(label_counts)\n",
        "  sizes = [count for count in label_counts]\n",
        "  fig = plt.figure(figsize=(5,5))\n",
        "  plt.pie(sizes, labels=label_types, autopct='%1.1f%%', shadow=True, startangle=90)\n",
        "  plt.axis('equal')\n",
        "  plt.show()\n",
        "\n",
        "pie_chart(df)"
      ],
      "metadata": {
        "colab": {
          "base_uri": "https://localhost:8080/",
          "height": 565
        },
        "id": "Vci49-b65QJN",
        "outputId": "2b2b8457-ea02-4c3c-c86b-9ad474a34680"
      },
      "execution_count": 5,
      "outputs": [
        {
          "output_type": "stream",
          "name": "stdout",
          "text": [
            "Sentiments in the dataset:  ['Extremely Negative' 'Positive' 'Extremely Positive' 'Negative' 'Neutral']\n",
            "Sentiment\n",
            "Negative              1041\n",
            "Positive               947\n",
            "Neutral                619\n",
            "Extremely Positive     599\n",
            "Extremely Negative     592\n",
            "Name: count, dtype: int64\n"
          ]
        },
        {
          "output_type": "display_data",
          "data": {
            "text/plain": [
              "<Figure size 500x500 with 1 Axes>"
            ],
            "image/png": "[encoded data removed]"
          },
          "metadata": {}
        }
      ]
    },
    {
      "cell_type": "code",
      "source": [
        "#Separating positive tweets and negative tweets. (consider only positive and negative tweets in this problem)\n",
        "all_positive_tweets = list(df[df['Sentiment'] == 'Positive']['OriginalTweet'].astype(str))\n",
        "all_negative_tweets = list(df[df['Sentiment'] == 'Negative']['OriginalTweet'].astype(str))[:947]\n",
        "\n",
        "#Splitting train and test sets. 80/20 split\n",
        "positive_train, positive_test = train_test_split(all_positive_tweets, test_size=0.2, random_state=42)\n",
        "negative_train, negative_test = train_test_split(all_negative_tweets, test_size=0.2, random_state=42)\n",
        "\n",
        "print(\"Size of training dataset: \", len(positive_train) + len(negative_train))\n",
        "print(\"Size of testing dataset: \", len(positive_test) + len(negative_test))\n",
        "\n",
        "print('\\033[92m' +'\\nExample for positive tweet:')\n",
        "print( all_positive_tweets[random.randint(0,947)])\n",
        "print('\\033[91m' +'\\nExample for negative tweet:')\n",
        "print( all_negative_tweets[random.randint(0,947)])"
      ],
      "metadata": {
        "colab": {
          "base_uri": "https://localhost:8080/"
        },
        "id": "d2tTTJG07I_i",
        "outputId": "0d15c5fd-92b5-4c41-aa56-b68f316cb6eb"
      },
      "execution_count": 6,
      "outputs": [
        {
          "output_type": "stream",
          "name": "stdout",
          "text": [
            "Size of training dataset:  1514\n",
            "Size of testing dataset:  380\n",
            "\u001b[92m\n",
            "Example for positive tweet:\n",
            "Just a heads up to everyone about the #COVID?19 #Coronavirus #CoronavirusOutbreak.\r\r\n",
            "\r\r\n",
            "Stock up on food. Your rights are going away.\r\r\n",
            "\r\r\n",
            "The virus shouldn't be your main concern. The government lock-down upon everything should be.\r\r\n",
            "\r\r\n",
            "Potatoes, rice, good long lasting food. Stock up.\n",
            "\u001b[91m\n",
            "Example for negative tweet:\n",
            "Real question, should I stock up on things I already have (dog food, cat food, litter, tampons, etc.)? How insane is this #coronavirus thing going to get? Im not worried about the virus, Im worried about being told to stay put with no supplies...\n"
          ]
        }
      ]
    },
    {
      "cell_type": "code",
      "source": [
        "import nltk                           # Python library for NLP\n",
        "from nltk.stem import PorterStemmer   # module for stemming\n",
        "from nltk.corpus import stopwords     # module for stop words that come with\n",
        "from nltk.tokenize import TweetTokenizer #method in nltk to tokenize tweets.\n",
        "\n",
        "# Import the english stop words list from NLTK\n",
        "nltk.download(\"stopwords\")\n"
      ],
      "metadata": {
        "colab": {
          "base_uri": "https://localhost:8080/"
        },
        "id": "6OEnBHC67JKk",
        "outputId": "3abc40ae-d7af-480a-dc16-944cbdb0015b"
      },
      "execution_count": 7,
      "outputs": [
        {
          "output_type": "stream",
          "name": "stderr",
          "text": [
            "[nltk_data] Downloading package stopwords to /root/nltk_data...\n",
            "[nltk_data]   Unzipping corpora/stopwords.zip.\n"
          ]
        },
        {
          "output_type": "execute_result",
          "data": {
            "text/plain": [
              "True"
            ]
          },
          "metadata": {},
          "execution_count": 7
        }
      ]
    },
    {
      "cell_type": "markdown",
      "source": [
        "**Preprocessing the Tweet data**"
      ],
      "metadata": {
        "id": "9Ezv9q1TYK5w"
      }
    },
    {
      "cell_type": "code",
      "source": [
        "#function to process the tweet. Called multiple times where ever processing of tweet is needed.\n",
        "def process_tweet(tweet):\n",
        "  stemmer = PorterStemmer()\n",
        "  stopwords_english = stopwords.words('english')\n",
        "  #removing stock market symbols like $GE\n",
        "  tweet = re.sub(r'\\$\\w*', '', tweet)\n",
        "  #remove old style retweet text \"RT\"\n",
        "  tweet = re.sub(r'^RT[\\s]+', '', tweet)\n",
        "  #remove hyperlinks\n",
        "  tweet = re.sub(r'https?://[^\\s\\n\\r]+', '', tweet)\n",
        "  #remove hashtags '#' sign from the word\n",
        "  tweet = re.sub(r'#', '', tweet)\n",
        "  #tokenize tweets\n",
        "  tokenizer = TweetTokenizer(preserve_case=False, strip_handles=True, reduce_len=True)\n",
        "  tweet_tokens = tokenizer.tokenize(tweet)\n",
        "\n",
        "  tweets_clean = []\n",
        "  for word in tweet_tokens:\n",
        "    if (word not in stopwords_english and  #remove stopwords\n",
        "          word not in string.punctuation):  #remove punctuations\n",
        "      stem_word = stemmer.stem(word)  # stemming words\n",
        "      tweets_clean.append(stem_word)\n",
        "\n",
        "  return tweets_clean\n"
      ],
      "metadata": {
        "id": "N1H8bmlXEty8"
      },
      "execution_count": 8,
      "outputs": []
    },
    {
      "cell_type": "code",
      "source": [
        "#check the above method with a sample tweet\n",
        "tweet = all_positive_tweets[12]\n",
        "\n",
        "print()\n",
        "print(tweet)\n",
        "\n",
        "#pass the tweet to the function - 'process_tweet'\n",
        "tweets_stem = process_tweet(tweet); #preprocess the given tweet\n",
        "\n",
        "print('Preprocessed tweet: ')\n",
        "print(tweets_stem)"
      ],
      "metadata": {
        "colab": {
          "base_uri": "https://localhost:8080/"
        },
        "id": "aRTHSs9CEt9E",
        "outputId": "bff82e80-fcef-4beb-b66f-4a064b6ae7bc"
      },
      "execution_count": 9,
      "outputs": [
        {
          "output_type": "stream",
          "name": "stdout",
          "text": [
            "\n",
            "Consumers have increased their online shopping due to coronavirus. https://t.co/5mYfz3RAD0 #retail #ecommerce #study #coronavirus https://t.co/Dz3H6zrWUT\n",
            "Preprocessed tweet: \n",
            "['consum', 'increas', 'onlin', 'shop', 'due', 'coronaviru', 'retail', 'ecommerc', 'studi', 'coronaviru']\n"
          ]
        }
      ]
    },
    {
      "cell_type": "markdown",
      "source": [
        "**Representing BOW/vocab list in 3 dimensions**"
      ],
      "metadata": {
        "id": "iUyLMKxm8l_p"
      }
    },
    {
      "cell_type": "code",
      "source": [
        "#function to build a frequency dictionary\n",
        "def build_freqs(tweets, ys):\n",
        "  \"\"\"\n",
        "      tweets: a list of tweets\n",
        "      ys: an m x 1 array with the sentiment label of each tweet\n",
        "          (either 0 or 1)\n",
        "      freqs: a dictionary mapping each (word, sentiment) pair (=key) to its frequency (=value)\n",
        "  \"\"\"\n",
        "  #Convert np array to list since zip needs an iterable.\n",
        "  #The squeeze is necessary or the list ends up with one element.\n",
        "  yslist = np.squeeze(ys).tolist()\n",
        "  i = 1\n",
        "  print(yslist)\n",
        "\n",
        "  #Start with an empty dictionary and populate it by looping over all tweets\n",
        "  #and over all processed words in each tweet\n",
        "  freqs = {}\n",
        "  for y, tweet in zip(yslist, tweets):\n",
        "    #debugging\n",
        "    if (i==100):\n",
        "      print(y, tweet)\n",
        "    for word in process_tweet(tweet):\n",
        "      pair = (word, y)\n",
        "      if pair in freqs:\n",
        "        freqs[pair] += 1\n",
        "      else:\n",
        "        freqs[pair] = 1\n",
        "    i += 1\n",
        "    #debugging\n",
        "    if (i == 10) :\n",
        "      print(freqs)\n",
        "      i += 1\n",
        "\n",
        "  return freqs\n",
        ""
      ],
      "metadata": {
        "id": "kDM7yAv_7JOR"
      },
      "execution_count": 17,
      "outputs": []
    },
    {
      "cell_type": "code",
      "source": [
        "training_tweets = positive_train + negative_train\n",
        "#make a numpy array representing labels of the tweets\n",
        "labels = np.append(np.ones(len(positive_train)), np.zeros(len(negative_train)))\n"
      ],
      "metadata": {
        "id": "MzliQo7QAqQc"
      },
      "execution_count": 11,
      "outputs": []
    },
    {
      "cell_type": "code",
      "source": [
        "#create frequency dictionary\n",
        "freqs = build_freqs(training_tweets, labels)\n",
        "\n",
        "#check data type\n",
        "print(f'type(freqs) = {type(freqs)}')\n",
        "\n",
        "#check length of the dictionary\n",
        "print(f'len(frwqs) = {len(freqs)}')"
      ],
      "metadata": {
        "colab": {
          "base_uri": "https://localhost:8080/"
        },
        "id": "pNAqzm5gfIR9",
        "outputId": "a0241457-158c-437d-bd3b-e40c98bf4011"
      },
      "execution_count": 18,
      "outputs": [
        {
          "output_type": "stream",
          "name": "stdout",
          "text": [
            "[1.0, 1.0, 1.0, 1.0, 1.0, 1.0, 1.0, 1.0, 1.0, 1.0, 1.0, 1.0, 1.0, 1.0, 1.0, 1.0, 1.0, 1.0, 1.0, 1.0, 1.0, 1.0, 1.0, 1.0, 1.0, 1.0, 1.0, 1.0, 1.0, 1.0, 1.0, 1.0, 1.0, 1.0, 1.0, 1.0, 1.0, 1.0, 1.0, 1.0, 1.0, 1.0, 1.0, 1.0, 1.0, 1.0, 1.0, 1.0, 1.0, 1.0, 1.0, 1.0, 1.0, 1.0, 1.0, 1.0, 1.0, 1.0, 1.0, 1.0, 1.0, 1.0, 1.0, 1.0, 1.0, 1.0, 1.0, 1.0, 1.0, 1.0, 1.0, 1.0, 1.0, 1.0, 1.0, 1.0, 1.0, 1.0, 1.0, 1.0, 1.0, 1.0, 1.0, 1.0, 1.0, 1.0, 1.0, 1.0, 1.0, 1.0, 1.0, 1.0, 1.0, 1.0, 1.0, 1.0, 1.0, 1.0, 1.0, 1.0, 1.0, 1.0, 1.0, 1.0, 1.0, 1.0, 1.0, 1.0, 1.0, 1.0, 1.0, 1.0, 1.0, 1.0, 1.0, 1.0, 1.0, 1.0, 1.0, 1.0, 1.0, 1.0, 1.0, 1.0, 1.0, 1.0, 1.0, 1.0, 1.0, 1.0, 1.0, 1.0, 1.0, 1.0, 1.0, 1.0, 1.0, 1.0, 1.0, 1.0, 1.0, 1.0, 1.0, 1.0, 1.0, 1.0, 1.0, 1.0, 1.0, 1.0, 1.0, 1.0, 1.0, 1.0, 1.0, 1.0, 1.0, 1.0, 1.0, 1.0, 1.0, 1.0, 1.0, 1.0, 1.0, 1.0, 1.0, 1.0, 1.0, 1.0, 1.0, 1.0, 1.0, 1.0, 1.0, 1.0, 1.0, 1.0, 1.0, 1.0, 1.0, 1.0, 1.0, 1.0, 1.0, 1.0, 1.0, 1.0, 1.0, 1.0, 1.0, 1.0, 1.0, 1.0, 1.0, 1.0, 1.0, 1.0, 1.0, 1.0, 1.0, 1.0, 1.0, 1.0, 1.0, 1.0, 1.0, 1.0, 1.0, 1.0, 1.0, 1.0, 1.0, 1.0, 1.0, 1.0, 1.0, 1.0, 1.0, 1.0, 1.0, 1.0, 1.0, 1.0, 1.0, 1.0, 1.0, 1.0, 1.0, 1.0, 1.0, 1.0, 1.0, 1.0, 1.0, 1.0, 1.0, 1.0, 1.0, 1.0, 1.0, 1.0, 1.0, 1.0, 1.0, 1.0, 1.0, 1.0, 1.0, 1.0, 1.0, 1.0, 1.0, 1.0, 1.0, 1.0, 1.0, 1.0, 1.0, 1.0, 1.0, 1.0, 1.0, 1.0, 1.0, 1.0, 1.0, 1.0, 1.0, 1.0, 1.0, 1.0, 1.0, 1.0, 1.0, 1.0, 1.0, 1.0, 1.0, 1.0, 1.0, 1.0, 1.0, 1.0, 1.0, 1.0, 1.0, 1.0, 1.0, 1.0, 1.0, 1.0, 1.0, 1.0, 1.0, 1.0, 1.0, 1.0, 1.0, 1.0, 1.0, 1.0, 1.0, 1.0, 1.0, 1.0, 1.0, 1.0, 1.0, 1.0, 1.0, 1.0, 1.0, 1.0, 1.0, 1.0, 1.0, 1.0, 1.0, 1.0, 1.0, 1.0, 1.0, 1.0, 1.0, 1.0, 1.0, 1.0, 1.0, 1.0, 1.0, 1.0, 1.0, 1.0, 1.0, 1.0, 1.0, 1.0, 1.0, 1.0, 1.0, 1.0, 1.0, 1.0, 1.0, 1.0, 1.0, 1.0, 1.0, 1.0, 1.0, 1.0, 1.0, 1.0, 1.0, 1.0, 1.0, 1.0, 1.0, 1.0, 1.0, 1.0, 1.0, 1.0, 1.0, 1.0, 1.0, 1.0, 1.0, 1.0, 1.0, 1.0, 1.0, 1.0, 1.0, 1.0, 1.0, 1.0, 1.0, 1.0, 1.0, 1.0, 1.0, 1.0, 1.0, 1.0, 1.0, 1.0, 1.0, 1.0, 1.0, 1.0, 1.0, 1.0, 1.0, 1.0, 1.0, 1.0, 1.0, 1.0, 1.0, 1.0, 1.0, 1.0, 1.0, 1.0, 1.0, 1.0, 1.0, 1.0, 1.0, 1.0, 1.0, 1.0, 1.0, 1.0, 1.0, 1.0, 1.0, 1.0, 1.0, 1.0, 1.0, 1.0, 1.0, 1.0, 1.0, 1.0, 1.0, 1.0, 1.0, 1.0, 1.0, 1.0, 1.0, 1.0, 1.0, 1.0, 1.0, 1.0, 1.0, 1.0, 1.0, 1.0, 1.0, 1.0, 1.0, 1.0, 1.0, 1.0, 1.0, 1.0, 1.0, 1.0, 1.0, 1.0, 1.0, 1.0, 1.0, 1.0, 1.0, 1.0, 1.0, 1.0, 1.0, 1.0, 1.0, 1.0, 1.0, 1.0, 1.0, 1.0, 1.0, 1.0, 1.0, 1.0, 1.0, 1.0, 1.0, 1.0, 1.0, 1.0, 1.0, 1.0, 1.0, 1.0, 1.0, 1.0, 1.0, 1.0, 1.0, 1.0, 1.0, 1.0, 1.0, 1.0, 1.0, 1.0, 1.0, 1.0, 1.0, 1.0, 1.0, 1.0, 1.0, 1.0, 1.0, 1.0, 1.0, 1.0, 1.0, 1.0, 1.0, 1.0, 1.0, 1.0, 1.0, 1.0, 1.0, 1.0, 1.0, 1.0, 1.0, 1.0, 1.0, 1.0, 1.0, 1.0, 1.0, 1.0, 1.0, 1.0, 1.0, 1.0, 1.0, 1.0, 1.0, 1.0, 1.0, 1.0, 1.0, 1.0, 1.0, 1.0, 1.0, 1.0, 1.0, 1.0, 1.0, 1.0, 1.0, 1.0, 1.0, 1.0, 1.0, 1.0, 1.0, 1.0, 1.0, 1.0, 1.0, 1.0, 1.0, 1.0, 1.0, 1.0, 1.0, 1.0, 1.0, 1.0, 1.0, 1.0, 1.0, 1.0, 1.0, 1.0, 1.0, 1.0, 1.0, 1.0, 1.0, 1.0, 1.0, 1.0, 1.0, 1.0, 1.0, 1.0, 1.0, 1.0, 1.0, 1.0, 1.0, 1.0, 1.0, 1.0, 1.0, 1.0, 1.0, 1.0, 1.0, 1.0, 1.0, 1.0, 1.0, 1.0, 1.0, 1.0, 1.0, 1.0, 1.0, 1.0, 1.0, 1.0, 1.0, 1.0, 1.0, 1.0, 1.0, 1.0, 1.0, 1.0, 1.0, 1.0, 1.0, 1.0, 1.0, 1.0, 1.0, 1.0, 1.0, 1.0, 1.0, 1.0, 1.0, 1.0, 1.0, 1.0, 1.0, 1.0, 1.0, 1.0, 1.0, 1.0, 1.0, 1.0, 1.0, 1.0, 1.0, 1.0, 1.0, 1.0, 1.0, 1.0, 1.0, 1.0, 1.0, 1.0, 1.0, 1.0, 1.0, 1.0, 1.0, 1.0, 1.0, 1.0, 1.0, 1.0, 1.0, 1.0, 1.0, 1.0, 1.0, 1.0, 1.0, 1.0, 1.0, 1.0, 1.0, 1.0, 1.0, 1.0, 1.0, 1.0, 1.0, 1.0, 1.0, 1.0, 1.0, 1.0, 1.0, 1.0, 1.0, 1.0, 1.0, 1.0, 1.0, 1.0, 1.0, 1.0, 1.0, 1.0, 1.0, 1.0, 1.0, 1.0, 1.0, 1.0, 1.0, 1.0, 1.0, 1.0, 1.0, 1.0, 1.0, 1.0, 1.0, 1.0, 1.0, 1.0, 1.0, 1.0, 1.0, 1.0, 1.0, 1.0, 1.0, 1.0, 1.0, 1.0, 1.0, 1.0, 1.0, 1.0, 1.0, 1.0, 1.0, 1.0, 1.0, 1.0, 1.0, 1.0, 1.0, 1.0, 1.0, 1.0, 1.0, 1.0, 1.0, 1.0, 1.0, 1.0, 1.0, 1.0, 1.0, 1.0, 1.0, 0.0, 0.0, 0.0, 0.0, 0.0, 0.0, 0.0, 0.0, 0.0, 0.0, 0.0, 0.0, 0.0, 0.0, 0.0, 0.0, 0.0, 0.0, 0.0, 0.0, 0.0, 0.0, 0.0, 0.0, 0.0, 0.0, 0.0, 0.0, 0.0, 0.0, 0.0, 0.0, 0.0, 0.0, 0.0, 0.0, 0.0, 0.0, 0.0, 0.0, 0.0, 0.0, 0.0, 0.0, 0.0, 0.0, 0.0, 0.0, 0.0, 0.0, 0.0, 0.0, 0.0, 0.0, 0.0, 0.0, 0.0, 0.0, 0.0, 0.0, 0.0, 0.0, 0.0, 0.0, 0.0, 0.0, 0.0, 0.0, 0.0, 0.0, 0.0, 0.0, 0.0, 0.0, 0.0, 0.0, 0.0, 0.0, 0.0, 0.0, 0.0, 0.0, 0.0, 0.0, 0.0, 0.0, 0.0, 0.0, 0.0, 0.0, 0.0, 0.0, 0.0, 0.0, 0.0, 0.0, 0.0, 0.0, 0.0, 0.0, 0.0, 0.0, 0.0, 0.0, 0.0, 0.0, 0.0, 0.0, 0.0, 0.0, 0.0, 0.0, 0.0, 0.0, 0.0, 0.0, 0.0, 0.0, 0.0, 0.0, 0.0, 0.0, 0.0, 0.0, 0.0, 0.0, 0.0, 0.0, 0.0, 0.0, 0.0, 0.0, 0.0, 0.0, 0.0, 0.0, 0.0, 0.0, 0.0, 0.0, 0.0, 0.0, 0.0, 0.0, 0.0, 0.0, 0.0, 0.0, 0.0, 0.0, 0.0, 0.0, 0.0, 0.0, 0.0, 0.0, 0.0, 0.0, 0.0, 0.0, 0.0, 0.0, 0.0, 0.0, 0.0, 0.0, 0.0, 0.0, 0.0, 0.0, 0.0, 0.0, 0.0, 0.0, 0.0, 0.0, 0.0, 0.0, 0.0, 0.0, 0.0, 0.0, 0.0, 0.0, 0.0, 0.0, 0.0, 0.0, 0.0, 0.0, 0.0, 0.0, 0.0, 0.0, 0.0, 0.0, 0.0, 0.0, 0.0, 0.0, 0.0, 0.0, 0.0, 0.0, 0.0, 0.0, 0.0, 0.0, 0.0, 0.0, 0.0, 0.0, 0.0, 0.0, 0.0, 0.0, 0.0, 0.0, 0.0, 0.0, 0.0, 0.0, 0.0, 0.0, 0.0, 0.0, 0.0, 0.0, 0.0, 0.0, 0.0, 0.0, 0.0, 0.0, 0.0, 0.0, 0.0, 0.0, 0.0, 0.0, 0.0, 0.0, 0.0, 0.0, 0.0, 0.0, 0.0, 0.0, 0.0, 0.0, 0.0, 0.0, 0.0, 0.0, 0.0, 0.0, 0.0, 0.0, 0.0, 0.0, 0.0, 0.0, 0.0, 0.0, 0.0, 0.0, 0.0, 0.0, 0.0, 0.0, 0.0, 0.0, 0.0, 0.0, 0.0, 0.0, 0.0, 0.0, 0.0, 0.0, 0.0, 0.0, 0.0, 0.0, 0.0, 0.0, 0.0, 0.0, 0.0, 0.0, 0.0, 0.0, 0.0, 0.0, 0.0, 0.0, 0.0, 0.0, 0.0, 0.0, 0.0, 0.0, 0.0, 0.0, 0.0, 0.0, 0.0, 0.0, 0.0, 0.0, 0.0, 0.0, 0.0, 0.0, 0.0, 0.0, 0.0, 0.0, 0.0, 0.0, 0.0, 0.0, 0.0, 0.0, 0.0, 0.0, 0.0, 0.0, 0.0, 0.0, 0.0, 0.0, 0.0, 0.0, 0.0, 0.0, 0.0, 0.0, 0.0, 0.0, 0.0, 0.0, 0.0, 0.0, 0.0, 0.0, 0.0, 0.0, 0.0, 0.0, 0.0, 0.0, 0.0, 0.0, 0.0, 0.0, 0.0, 0.0, 0.0, 0.0, 0.0, 0.0, 0.0, 0.0, 0.0, 0.0, 0.0, 0.0, 0.0, 0.0, 0.0, 0.0, 0.0, 0.0, 0.0, 0.0, 0.0, 0.0, 0.0, 0.0, 0.0, 0.0, 0.0, 0.0, 0.0, 0.0, 0.0, 0.0, 0.0, 0.0, 0.0, 0.0, 0.0, 0.0, 0.0, 0.0, 0.0, 0.0, 0.0, 0.0, 0.0, 0.0, 0.0, 0.0, 0.0, 0.0, 0.0, 0.0, 0.0, 0.0, 0.0, 0.0, 0.0, 0.0, 0.0, 0.0, 0.0, 0.0, 0.0, 0.0, 0.0, 0.0, 0.0, 0.0, 0.0, 0.0, 0.0, 0.0, 0.0, 0.0, 0.0, 0.0, 0.0, 0.0, 0.0, 0.0, 0.0, 0.0, 0.0, 0.0, 0.0, 0.0, 0.0, 0.0, 0.0, 0.0, 0.0, 0.0, 0.0, 0.0, 0.0, 0.0, 0.0, 0.0, 0.0, 0.0, 0.0, 0.0, 0.0, 0.0, 0.0, 0.0, 0.0, 0.0, 0.0, 0.0, 0.0, 0.0, 0.0, 0.0, 0.0, 0.0, 0.0, 0.0, 0.0, 0.0, 0.0, 0.0, 0.0, 0.0, 0.0, 0.0, 0.0, 0.0, 0.0, 0.0, 0.0, 0.0, 0.0, 0.0, 0.0, 0.0, 0.0, 0.0, 0.0, 0.0, 0.0, 0.0, 0.0, 0.0, 0.0, 0.0, 0.0, 0.0, 0.0, 0.0, 0.0, 0.0, 0.0, 0.0, 0.0, 0.0, 0.0, 0.0, 0.0, 0.0, 0.0, 0.0, 0.0, 0.0, 0.0, 0.0, 0.0, 0.0, 0.0, 0.0, 0.0, 0.0, 0.0, 0.0, 0.0, 0.0, 0.0, 0.0, 0.0, 0.0, 0.0, 0.0, 0.0, 0.0, 0.0, 0.0, 0.0, 0.0, 0.0, 0.0, 0.0, 0.0, 0.0, 0.0, 0.0, 0.0, 0.0, 0.0, 0.0, 0.0, 0.0, 0.0, 0.0, 0.0, 0.0, 0.0, 0.0, 0.0, 0.0, 0.0, 0.0, 0.0, 0.0, 0.0, 0.0, 0.0, 0.0, 0.0, 0.0, 0.0, 0.0, 0.0, 0.0, 0.0, 0.0, 0.0, 0.0, 0.0, 0.0, 0.0, 0.0, 0.0, 0.0, 0.0, 0.0, 0.0, 0.0, 0.0, 0.0, 0.0, 0.0, 0.0, 0.0, 0.0, 0.0, 0.0, 0.0, 0.0, 0.0, 0.0, 0.0, 0.0, 0.0, 0.0, 0.0, 0.0, 0.0, 0.0, 0.0, 0.0, 0.0, 0.0, 0.0, 0.0, 0.0, 0.0, 0.0, 0.0, 0.0, 0.0, 0.0, 0.0, 0.0, 0.0, 0.0, 0.0, 0.0, 0.0, 0.0, 0.0, 0.0, 0.0, 0.0, 0.0, 0.0, 0.0, 0.0, 0.0, 0.0, 0.0, 0.0, 0.0, 0.0, 0.0, 0.0, 0.0, 0.0, 0.0, 0.0, 0.0, 0.0, 0.0, 0.0, 0.0, 0.0, 0.0, 0.0, 0.0, 0.0, 0.0, 0.0, 0.0, 0.0, 0.0, 0.0, 0.0, 0.0, 0.0, 0.0, 0.0, 0.0, 0.0, 0.0, 0.0, 0.0, 0.0, 0.0, 0.0, 0.0, 0.0, 0.0, 0.0, 0.0, 0.0, 0.0, 0.0, 0.0, 0.0, 0.0, 0.0, 0.0, 0.0, 0.0, 0.0, 0.0, 0.0, 0.0, 0.0, 0.0, 0.0, 0.0, 0.0, 0.0, 0.0, 0.0, 0.0, 0.0, 0.0, 0.0, 0.0, 0.0, 0.0, 0.0, 0.0, 0.0, 0.0, 0.0, 0.0, 0.0, 0.0, 0.0, 0.0, 0.0, 0.0, 0.0, 0.0, 0.0, 0.0, 0.0, 0.0, 0.0, 0.0, 0.0, 0.0, 0.0, 0.0, 0.0, 0.0, 0.0, 0.0, 0.0, 0.0, 0.0, 0.0, 0.0, 0.0, 0.0, 0.0, 0.0, 0.0, 0.0]\n",
            "{('time', 1.0): 2, ('other', 1.0): 1, ('lower', 1.0): 2, ('price', 1.0): 2, ('get', 1.0): 1, ('new', 1.0): 1, ('peopl', 1.0): 1, ('forthcom', 1.0): 1, ('recommend', 1.0): 1, ('social', 1.0): 1, ('distanc', 1.0): 1, ('smart', 1.0): 1, ('invest', 1.0): 1, ('long', 1.0): 1, ('run', 1.0): 1, ('covid', 1.0): 10, ('19', 1.0): 4, ('coronaviruspandem', 1.0): 2, ('_19', 1.0): 7, ('netflix', 1.0): 1, ('primevideo', 1.0): 1, ('retail', 1.0): 1, ('note', 1.0): 1, ('growth', 1.0): 1, ('demand', 1.0): 1, ('groceri', 1.0): 4, ('can', 1.0): 1, ('food', 1.0): 3, ('antisept', 1.0): 1, ('wuhanviru', 1.0): 1, ('covd', 1.0): 1, ('current', 1.0): 1, ('dream', 1.0): 1, ('go', 1.0): 1, ('supermarket', 1.0): 2, ('brother', 1.0): 1, ('\\x92', 1.0): 6, ('let', 1.0): 1, ('caus', 1.0): 1, ('want', 1.0): 1, ('expos', 1.0): 1, ('risk', 1.0): 1, ('lockdown', 1.0): 1, ('stay', 1.0): 1, ('safe', 1.0): 1, ('amp', 1.0): 2, ('healthi', 1.0): 1, ('take', 1.0): 1, ('ness', 1.0): 1, ('precaut', 1.0): 1, ('panic', 1.0): 2, ('eat', 1.0): 1, ('well', 1.0): 1, ('cook', 1.0): 1, ('home', 1.0): 1, ('avoid', 1.0): 1, ('public', 1.0): 1, ('gather', 1.0): 1, ('weird', 1.0): 1, ('state', 1.0): 1, ('hit', 1.0): 1, ('yet', 1.0): 1, ('life', 1.0): 1, ('still', 1.0): 2, ('felt', 1.0): 2, ('pretti', 1.0): 1, ('normal', 1.0): 1, ('despit', 1.0): 1, ('pic', 1.0): 1, ('seen', 1.0): 1, ('onlin', 1.0): 1, ('coverag', 1.0): 1, ('today', 1.0): 1, ('like', 1.0): 2, ('first', 1.0): 2, ('day', 1.0): 2, ('ppl', 1.0): 2, ('start', 1.0): 1, ('act', 1.0): 1, ('differ', 1.0): 1, ('lotta', 1.0): 1, ('store', 1.0): 4, ('feel', 1.0): 1, ('forebod', 1.0): 1, ('kid', 1.0): 1, ('never', 1.0): 2, ('imagin', 1.0): 1, ('hour', 1.0): 1, ('play', 1.0): 1, ('pacman', 1.0): 1, ('would', 1.0): 1, ('come', 1.0): 1, ('handi', 1.0): 1, ('shop', 1.0): 2, ('coronarvirusitalia', 1.0): 1, ('coronaviru', 1.0): 2, ('big', 1.0): 1, ('sold', 1.0): 1, ('need', 1.0): 2, ('pleas', 1.0): 1, ('tri', 1.0): 1, ('local', 1.0): 2, ('independ', 1.0): 1, ('conveni', 1.0): 1, ('busi', 1.0): 1, ('shoploc', 1.0): 1, ('enfieldtown', 1.0): 1, ('jame', 1.0): 1, ('whitak', 1.0): 1, ('thank', 1.0): 1, ('god', 1.0): 1, ('live', 1.0): 1, ('worst', 1.0): 1, ('shelv', 1.0): 1, ('full', 1.0): 1, ('suppli', 1.0): 1, ('usual', 1.0): 1, ('buy', 1.0): 1, ('western', 1.0): 1, ('individu', 1.0): 1, ('mayb', 1.0): 1, ('trust', 1.0): 1, ('govern', 1.0): 1, ('contract', 1.0): 1, ('head', 1.0): 1, ('nearest', 1.0): 1, ('stock', 1.0): 1, ('right', 1.0): 1}\n",
            "1.0 Experienced hoarding like I have never seen before this morning at the #Embrun grocery store.  Most shoppers were good but these two were off the charts.  The lady on the left eventually filled her cart with pasta sauce.  Neither would let people pass.  #panicbuying #Covid_19 https://t.co/hQB5tpnc6g\n",
            "type(freqs) = <class 'dict'>\n",
            "len(frwqs) = 6920\n"
          ]
        }
      ]
    },
    {
      "cell_type": "code",
      "source": [
        "# select some words to appear in the report.\n",
        "keys = ['void', 'commun', 'spirit', 'stop', 'merri', 'nice', 'good', 'bad', 'sad', 'mad', 'best', 'pretti',\n",
        "        ':)', ':(', 'song', 'idea', 'power', 'play']\n",
        "\n",
        "#list representing our table of word counts\n",
        "# each element consist of a sublist with this pattern: [<word>, <positive_count>, <negative_count>]\n",
        "data = []\n",
        "\n",
        "#loop through our selected words\n",
        "for word in keys:\n",
        "\n",
        "  #initialize positive and negative counts\n",
        "  pos = 0\n",
        "  neg = 0\n",
        "\n",
        "  #retrieve number of positive counts\n",
        "  if (word,1) in freqs:\n",
        "    pos = freqs[(word, 1)]\n",
        "\n",
        "  #retrieve number of negative counts\n",
        "  if (word,0) in freqs:\n",
        "    neg = freqs[(word, 0)]\n",
        "\n",
        "  #append the word counts to the table\n",
        "  data.append([word, pos, neg])\n",
        "\n",
        "data"
      ],
      "metadata": {
        "colab": {
          "base_uri": "https://localhost:8080/"
        },
        "id": "JyWcrhU-fIcW",
        "outputId": "39195503-8281-4255-8ac5-5a3c6e223cd3"
      },
      "execution_count": 13,
      "outputs": [
        {
          "output_type": "execute_result",
          "data": {
            "text/plain": [
              "[['void', 1, 0],\n",
              " ['commun', 15, 10],\n",
              " ['spirit', 1, 2],\n",
              " ['stop', 14, 32],\n",
              " ['merri', 0, 0],\n",
              " ['nice', 6, 6],\n",
              " ['good', 49, 28],\n",
              " ['bad', 1, 8],\n",
              " ['sad', 0, 5],\n",
              " ['mad', 2, 8],\n",
              " ['best', 7, 3],\n",
              " ['pretti', 6, 3],\n",
              " [':)', 1, 1],\n",
              " [':(', 3, 0],\n",
              " ['song', 2, 0],\n",
              " ['idea', 6, 8],\n",
              " ['power', 5, 0],\n",
              " ['play', 8, 1]]"
            ]
          },
          "metadata": {},
          "execution_count": 13
        }
      ]
    },
    {
      "cell_type": "code",
      "source": [
        "fig, ax = plt.subplots(figsize = (8, 8))\n",
        "\n",
        "# convert positive raw counts to logarithmic scale. we add 1 to avoid log(0)\n",
        "x = np.log([x[1] + 1 for x in data])\n",
        "\n",
        "#do the same for the negative counts\n",
        "y = np.log([x[2] + 1 for x in data])\n",
        "\n",
        "#Plot a dot for each pair of words\n",
        "ax.scatter(x, y)\n",
        "\n",
        "#assign axis labels\n",
        "plt.xlabel(\"Log Positive count\")\n",
        "plt.ylabel(\"Log Negative count\")\n",
        "\n",
        "#Add the word as the label at the same position as you added the points just before\n",
        "for i in range(0, len(data)):\n",
        "  ax.annotate(data[i][0], (x[i], y[i]), fontsize=12)\n",
        "\n",
        "ax.plot([0, 9], [0, 9], color = 'brown') # Plot the red line that divides the 2 areas.\n",
        "plt.show()"
      ],
      "metadata": {
        "colab": {
          "base_uri": "https://localhost:8080/",
          "height": 696
        },
        "id": "aGUlUO61kqHT",
        "outputId": "8df9545e-777a-4fe1-af26-96cd1e905547"
      },
      "execution_count": 14,
      "outputs": [
        {
          "output_type": "display_data",
          "data": {
            "text/plain": [
              "<Figure size 800x800 with 1 Axes>"
            ],
            "image/png": "[encoded data removed]"
          },
          "metadata": {}
        }
      ]
    },
    {
      "cell_type": "code",
      "source": [],
      "metadata": {
        "id": "wHYwX5NVkqKo"
      },
      "execution_count": 16,
      "outputs": []
    },
    {
      "cell_type": "code",
      "source": [],
      "metadata": {
        "colab": {
          "base_uri": "https://localhost:8080/"
        },
        "id": "YqNAezLekqNP",
        "outputId": "95cd5721-9650-480b-a140-1ea567fdfa89"
      },
      "execution_count": 42,
      "outputs": [
        {
          "output_type": "execute_result",
          "data": {
            "text/plain": [
              "[1, 15, 1, 14, 0, 6, 49, 1, 0, 2, 7, 6, 1, 3, 2, 6, 5, 8]"
            ]
          },
          "metadata": {},
          "execution_count": 42
        }
      ]
    },
    {
      "cell_type": "markdown",
      "source": [
        "Extracting Features"
      ],
      "metadata": {
        "id": "7jwRZeA6lg5a"
      }
    },
    {
      "cell_type": "code",
      "source": [
        "def extract_features(tweet, freqs):\n",
        "  '''\n",
        "    tweet: a list of words for one tweet\n",
        "    freqs: a dictionary corresponding to the frequencies of each tuple (word, label)\n",
        "    x: a feature vector of dimension (1,3)\n",
        "  '''\n",
        "  #process_tweet processes the tweet - it tokenized, stems and removes stopwords\n",
        "  word_tokens = process_tweet(tweet)\n",
        "  #3 elements in the form of a 1*3 vector\n",
        "  x = np.zeros((1, 3))\n",
        "  #print(x)\n",
        "  #bias term is set to 0\n",
        "  x[0, 0] = 1\n",
        "  #print(x)\n",
        "  #loop through each word in the list of words\n",
        "  for word in word_tokens:\n",
        "    #increment the word count for the positive label 1\n",
        "    #print(freqs.get((word, 1.0), 0))\n",
        "    x[0, 1] += freqs.get((word, 1.0), 0)\n",
        "    # increment the word count for the negative label 0\n",
        "    #freqs.get((word, 0.0), 0)\n",
        "    x[0,2] += freqs.get((word, 0.0),0)\n",
        "  #print(x)\n",
        "  assert(x.shape == (1,3))\n",
        "  return x\n"
      ],
      "metadata": {
        "id": "bHd26OYJliqj"
      },
      "execution_count": 26,
      "outputs": []
    },
    {
      "cell_type": "markdown",
      "source": [
        "Example1 : Feature extraction for a tweet"
      ],
      "metadata": {
        "id": "_QWeGjYRoF_8"
      }
    },
    {
      "cell_type": "code",
      "source": [
        "train_x = training_tweets\n",
        "tmp1 = extract_features(train_x[0], freqs)\n",
        "print(tmp1)"
      ],
      "metadata": {
        "colab": {
          "base_uri": "https://localhost:8080/"
        },
        "id": "ouwJcaGCnDuR",
        "outputId": "aad462f2-33c3-4854-86aa-db53ad68ca13"
      },
      "execution_count": 27,
      "outputs": [
        {
          "output_type": "stream",
          "name": "stdout",
          "text": [
            "[[1.000e+00 2.284e+03 2.482e+03]]\n"
          ]
        }
      ]
    },
    {
      "cell_type": "code",
      "source": [
        "# train_x = training_tweets\n",
        "# tmp1 = extract_features(train_x[0], freqs)\n",
        "# print(tmp1)"
      ],
      "metadata": {
        "colab": {
          "base_uri": "https://localhost:8080/"
        },
        "id": "sASYn4FRogVy",
        "outputId": "8f67975f-72c8-43a4-ed2a-52d0e5d2b9be"
      },
      "execution_count": 24,
      "outputs": [
        {
          "output_type": "stream",
          "name": "stdout",
          "text": [
            "[[0. 0. 0.]]\n",
            "[[1. 0. 0.]]\n",
            "78\n",
            "18\n",
            "9\n",
            "97\n",
            "92\n",
            "21\n",
            "146\n",
            "1\n",
            "78\n",
            "4\n",
            "14\n",
            "10\n",
            "8\n",
            "1\n",
            "16\n",
            "17\n",
            "562\n",
            "218\n",
            "39\n",
            "562\n",
            "290\n",
            "2\n",
            "1\n",
            "[[1.000e+00 2.284e+03 2.482e+03]]\n",
            "[[1.000e+00 2.284e+03 2.482e+03]]\n"
          ]
        }
      ]
    },
    {
      "cell_type": "code",
      "source": [],
      "metadata": {
        "colab": {
          "base_uri": "https://localhost:8080/"
        },
        "id": "0iz1lxH5ol2a",
        "outputId": "065c642b-8ba1-4092-8b18-0f283cd1003d"
      },
      "execution_count": 25,
      "outputs": [
        {
          "output_type": "execute_result",
          "data": {
            "text/plain": [
              "2284.0"
            ]
          },
          "metadata": {},
          "execution_count": 25
        }
      ]
    },
    {
      "cell_type": "markdown",
      "source": [
        "Example2: Feature extraction for a random string"
      ],
      "metadata": {
        "id": "3VRw_XaGo5Us"
      }
    },
    {
      "cell_type": "code",
      "source": [
        "tmp2 = extract_features('This batch is the best batch', freqs)\n",
        "print(tmp2)"
      ],
      "metadata": {
        "colab": {
          "base_uri": "https://localhost:8080/"
        },
        "id": "8BMhKMPYo51H",
        "outputId": "99401f44-cc38-46b8-f328-507eb76b0555"
      },
      "execution_count": 28,
      "outputs": [
        {
          "output_type": "stream",
          "name": "stdout",
          "text": [
            "[[ 1. 11.  3.]]\n"
          ]
        }
      ]
    },
    {
      "cell_type": "markdown",
      "source": [
        "#Prepare training data"
      ],
      "metadata": {
        "id": "5-wKuWdEpY4Y"
      }
    },
    {
      "cell_type": "code",
      "source": [
        "#collect the features and stack them into a matrix 'X'\n",
        "X = np.zeros((len(train_x), 3))\n",
        "for i in range(len(train_x)):\n",
        "  X[i, :] = extract_features(train_x[i], freqs)\n",
        "\n",
        "#training labels corresponding to X\n",
        "train_y = np.append(np.ones((len(positive_train), 1)), np.zeros((len(negative_train), 1)), axis=0)\n",
        "#print(train_y)\n",
        "Y = np.ravel(train_y, order='C')\n",
        "#print(Y)"
      ],
      "metadata": {
        "id": "i_H05_qLpQyB"
      },
      "execution_count": 35,
      "outputs": []
    },
    {
      "cell_type": "markdown",
      "source": [
        "Applying basic classification model - Logistic Regression"
      ],
      "metadata": {
        "id": "jrV_yh9Bs6aq"
      }
    },
    {
      "cell_type": "code",
      "source": [
        "from sklearn.linear_model import LogisticRegression\n",
        "model = LogisticRegression()\n",
        "clf = model.fit(X, Y)\n",
        "\n",
        "print(\"Training Accuracy: \", clf.score(X, Y))"
      ],
      "metadata": {
        "colab": {
          "base_uri": "https://localhost:8080/"
        },
        "id": "JQC5oh_epQ07",
        "outputId": "ad558270-7e90-49fa-c402-b9a0830aae4e"
      },
      "execution_count": 36,
      "outputs": [
        {
          "output_type": "stream",
          "name": "stdout",
          "text": [
            "Training Accuracy:  0.678996036988111\n"
          ]
        }
      ]
    },
    {
      "cell_type": "markdown",
      "source": [
        "Check performance on test set"
      ],
      "metadata": {
        "id": "M6eVhU6btUsl"
      }
    },
    {
      "cell_type": "code",
      "source": [
        "#Testing\n",
        "testing_tweets = positive_test + negative_test\n",
        "\n",
        "test_X = np.zeros((len(testing_tweets), 3))\n",
        "for i in range(len(testing_tweets)):\n",
        "  test_X[i, :] = extract_features(testing_tweets[i], freqs)\n",
        "\n",
        "#labels corresponding to test_X\n",
        "test_y = np.append(np.ones((len(positive_test), 1)), np.zeros((len(negative_test), 1)))\n",
        "test_Y = np.ravel(test_y, order='C')\n",
        "\n",
        "print(\"Test Accuracy: \", clf.score(test_X, test_Y))"
      ],
      "metadata": {
        "colab": {
          "base_uri": "https://localhost:8080/"
        },
        "id": "-Kag8fbppQ3I",
        "outputId": "82720d57-813d-4b9d-c0ba-7d12e99029e9"
      },
      "execution_count": 38,
      "outputs": [
        {
          "output_type": "stream",
          "name": "stdout",
          "text": [
            "Test Accuracy:  0.55\n"
          ]
        }
      ]
    },
    {
      "cell_type": "markdown",
      "source": [
        "Predict whether a given tweet is positive or negative"
      ],
      "metadata": {
        "id": "cfIn1TiGupY6"
      }
    },
    {
      "cell_type": "code",
      "source": [
        "def predict_custom_tweet(tweet, freqs):\n",
        "  x = extract_features(tweet, freqs)\n",
        "  y_pred = clf.predict(x)\n",
        "  return y_pred\n",
        "\n",
        "#test your function with some tweets\n",
        "list_of_tweets = ['\\033[92m'+'Thank God coronovirus is over',\n",
        "                  '\\033[91m'+'This is seriously ridiculous. Stop hoarding',\n",
        "                  '\\033[92m'+'Government efforts are great.',\n",
        "                  '\\033[93m'+'Nonsense', #anomaly in classification\n",
        "                  '\\033[91m'+'Panic-buying is pushing up prices.#coronavirus',\n",
        "                  '\\033[92m'+'THANK YOU to make hand sanitizer in distillery amid outbreak']\n",
        "\n",
        "for tweet in list_of_tweets:\n",
        "  print( '%s -> %f' %(tweet, predict_custom_tweet(tweet, freqs)))"
      ],
      "metadata": {
        "colab": {
          "base_uri": "https://localhost:8080/"
        },
        "id": "KA_MlvSSuonU",
        "outputId": "a3fe969d-b3fb-421f-8c2f-7e12228d8d46"
      },
      "execution_count": 39,
      "outputs": [
        {
          "output_type": "stream",
          "name": "stdout",
          "text": [
            "\u001b[92mThank God coronovirus is over -> 1.000000\n",
            "\u001b[91mThis is seriously ridiculous. Stop hoarding -> 0.000000\n",
            "\u001b[92mGovernment efforts are great. -> 1.000000\n",
            "\u001b[93mNonsense -> 1.000000\n",
            "\u001b[91mPanic-buying is pushing up prices.#coronavirus -> 0.000000\n",
            "\u001b[92mTHANK YOU to make hand sanitizer in distillery amid outbreak -> 1.000000\n"
          ]
        },
        {
          "output_type": "stream",
          "name": "stderr",
          "text": [
            "<ipython-input-39-d2f4f3aa624e>:15: DeprecationWarning: Conversion of an array with ndim > 0 to a scalar is deprecated, and will error in future. Ensure you extract a single element from your array before performing this operation. (Deprecated NumPy 1.25.)\n",
            "  print( '%s -> %f' %(tweet, predict_custom_tweet(tweet, freqs)))\n",
            "<ipython-input-39-d2f4f3aa624e>:15: DeprecationWarning: Conversion of an array with ndim > 0 to a scalar is deprecated, and will error in future. Ensure you extract a single element from your array before performing this operation. (Deprecated NumPy 1.25.)\n",
            "  print( '%s -> %f' %(tweet, predict_custom_tweet(tweet, freqs)))\n",
            "<ipython-input-39-d2f4f3aa624e>:15: DeprecationWarning: Conversion of an array with ndim > 0 to a scalar is deprecated, and will error in future. Ensure you extract a single element from your array before performing this operation. (Deprecated NumPy 1.25.)\n",
            "  print( '%s -> %f' %(tweet, predict_custom_tweet(tweet, freqs)))\n",
            "<ipython-input-39-d2f4f3aa624e>:15: DeprecationWarning: Conversion of an array with ndim > 0 to a scalar is deprecated, and will error in future. Ensure you extract a single element from your array before performing this operation. (Deprecated NumPy 1.25.)\n",
            "  print( '%s -> %f' %(tweet, predict_custom_tweet(tweet, freqs)))\n",
            "<ipython-input-39-d2f4f3aa624e>:15: DeprecationWarning: Conversion of an array with ndim > 0 to a scalar is deprecated, and will error in future. Ensure you extract a single element from your array before performing this operation. (Deprecated NumPy 1.25.)\n",
            "  print( '%s -> %f' %(tweet, predict_custom_tweet(tweet, freqs)))\n",
            "<ipython-input-39-d2f4f3aa624e>:15: DeprecationWarning: Conversion of an array with ndim > 0 to a scalar is deprecated, and will error in future. Ensure you extract a single element from your array before performing this operation. (Deprecated NumPy 1.25.)\n",
            "  print( '%s -> %f' %(tweet, predict_custom_tweet(tweet, freqs)))\n"
          ]
        }
      ]
    },
    {
      "cell_type": "code",
      "source": [
        "predict_custom_tweet('Why are the covid cases rising. It is scary', freqs)"
      ],
      "metadata": {
        "colab": {
          "base_uri": "https://localhost:8080/"
        },
        "id": "SKXaQq5BwppM",
        "outputId": "ccbc532b-d8e8-44df-d475-c87f41858d41"
      },
      "execution_count": 41,
      "outputs": [
        {
          "output_type": "execute_result",
          "data": {
            "text/plain": [
              "array([0.])"
            ]
          },
          "metadata": {},
          "execution_count": 41
        }
      ]
    },
    {
      "cell_type": "code",
      "source": [
        "predict_custom_tweet('Yay! finally coronovirus is gone', freqs)"
      ],
      "metadata": {
        "colab": {
          "base_uri": "https://localhost:8080/"
        },
        "id": "P0FGuMMnxE_A",
        "outputId": "2099d9dd-d20b-4a08-951e-1ed9c06565d2"
      },
      "execution_count": 49,
      "outputs": [
        {
          "output_type": "execute_result",
          "data": {
            "text/plain": [
              "array([0.])"
            ]
          },
          "metadata": {},
          "execution_count": 49
        }
      ]
    },
    {
      "cell_type": "code",
      "source": [
        "predict_custom_tweet('Thank god coronovirus cases are in control. We can go out without fear', freqs)"
      ],
      "metadata": {
        "colab": {
          "base_uri": "https://localhost:8080/"
        },
        "id": "JNwoatT5xMXY",
        "outputId": "42fd1f8a-7907-4806-e7a8-d4ff61379630"
      },
      "execution_count": 51,
      "outputs": [
        {
          "output_type": "execute_result",
          "data": {
            "text/plain": [
              "array([1.])"
            ]
          },
          "metadata": {},
          "execution_count": 51
        }
      ]
    },
    {
      "cell_type": "code",
      "source": [],
      "metadata": {
        "id": "3UTANOohE9n-"
      },
      "execution_count": null,
      "outputs": []
    },
    {
      "cell_type": "markdown",
      "source": [
        "#Summary of what we did\n",
        "\n",
        "**Problem Statement:**\n",
        "To utilize Twitter feed to carry out the sentimental analysis on the new strain of COVID-19.\n",
        "\n",
        "**Concepts used**\n",
        "\n",
        "*  Used Natural Language Toolkit (NLTK) package  \n",
        "\n",
        "*   Processing the tweet -\n",
        "\n",
        "      1.   Tokenization\n",
        "      2.   Regular expression\n",
        "      1.   Removal of hashtags\n",
        "      2.   Removal of hyperlinks\n",
        "      1.   Remove stopwords and punctuation\n",
        "      2.   Stemming\n",
        "\n",
        "*   Sparse Representation of text in vector format\n",
        "*   Frequency Dictionary\n",
        "*   Extracting features from Frequency Dictionary\n",
        "*   Training Logistic Regression\n",
        "*   Performance on the test set\n",
        "\n",
        "\n",
        "\n",
        "\n",
        "\n",
        "\n",
        "\n",
        "\n"
      ],
      "metadata": {
        "id": "vPnePs2lB0un"
      }
    }
  ]
}